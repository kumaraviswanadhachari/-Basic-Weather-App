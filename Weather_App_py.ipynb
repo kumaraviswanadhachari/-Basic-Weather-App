{
  "nbformat": 4,
  "nbformat_minor": 0,
  "metadata": {
    "colab": {
      "provenance": [],
      "authorship_tag": "ABX9TyOg7BBKFmFEhpaDjCm1+6Rt",
      "include_colab_link": true
    },
    "kernelspec": {
      "name": "python3",
      "display_name": "Python 3"
    },
    "language_info": {
      "name": "python"
    }
  },
  "cells": [
    {
      "cell_type": "markdown",
      "metadata": {
        "id": "view-in-github",
        "colab_type": "text"
      },
      "source": [
        "<a href=\"https://colab.research.google.com/github/kumaraviswanadhachari/-Basic-Weather-App/blob/main/Weather_App_py.ipynb\" target=\"_parent\"><img src=\"https://colab.research.google.com/assets/colab-badge.svg\" alt=\"Open In Colab\"/></a>"
      ]
    },
    {
      "cell_type": "code",
      "source": [
        "!pip install requests"
      ],
      "metadata": {
        "colab": {
          "base_uri": "https://localhost:8080/"
        },
        "id": "lpwT1udQSWbS",
        "outputId": "e6e55467-3d11-460f-dd6b-b499a859e651"
      },
      "execution_count": null,
      "outputs": [
        {
          "output_type": "stream",
          "name": "stdout",
          "text": [
            "Requirement already satisfied: requests in /usr/local/lib/python3.10/dist-packages (2.31.0)\n",
            "Requirement already satisfied: charset-normalizer<4,>=2 in /usr/local/lib/python3.10/dist-packages (from requests) (3.3.2)\n",
            "Requirement already satisfied: idna<4,>=2.5 in /usr/local/lib/python3.10/dist-packages (from requests) (3.7)\n",
            "Requirement already satisfied: urllib3<3,>=1.21.1 in /usr/local/lib/python3.10/dist-packages (from requests) (2.0.7)\n",
            "Requirement already satisfied: certifi>=2017.4.17 in /usr/local/lib/python3.10/dist-packages (from requests) (2024.7.4)\n"
          ]
        }
      ]
    },
    {
      "cell_type": "code",
      "source": [
        "import requests\n",
        "\n",
        "def get_weather(api_key, location):\n",
        "    \"\"\"Fetch the current weather data for a specified location.\"\"\"\n",
        "    # Updated URL to include the API key and location\n",
        "    url = f\"https://api.openweathermap.org/data/2.5/weather?q={location}&appid={api_key}\"\n",
        "    response = requests.get(url)\n",
        "    if response.status_code == 200:\n",
        "        data = response.json()\n",
        "        return data\n",
        "    else:\n",
        "        print(f\"Error fetching data: Status code {response.status_code}\")  # Print error for debugging\n",
        "        return None\n",
        "\n",
        "# ... rest of your code (display_weather, main) remains the same\n",
        "\n",
        "def display_weather(data):\n",
        "    \"\"\"Display the weather information.\"\"\"\n",
        "    if data:\n",
        "        main = data['main']\n",
        "        weather = data['weather'][0]\n",
        "\n",
        "        temperature = main['temp']\n",
        "        humidity = main['humidity']\n",
        "        weather_condition = weather['description']\n",
        "        city_name = data['name']\n",
        "\n",
        "        print(f\"Weather in {city_name}:\")\n",
        "        print(f\"Temperature: {temperature}°C\")\n",
        "        print(f\"Humidity: {humidity}%\")\n",
        "        print(f\"Condition: {weather_condition.capitalize()}\")\n",
        "    else:\n",
        "        print(\"Sorry, could not fetch the weather data. Please check your location and try again.\")\n",
        "\n",
        "def main():\n",
        "    api_key = \"c7b5b9403a18ebe608eff4d67c9f4dfa\"  # Replace with your OpenWeatherMap API key\n",
        "    location = input(\"chirala: \").strip()\n",
        "\n",
        "    weather_data = get_weather(api_key, location)\n",
        "    display_weather(weather_data)\n",
        "\n",
        "if __name__ == \"__main__\":\n",
        "    main()\n"
      ],
      "metadata": {
        "colab": {
          "base_uri": "https://localhost:8080/"
        },
        "id": "bh0G3jElS2Ui",
        "outputId": "55424e36-e11a-4d33-e785-0ebe13ef6d18"
      },
      "execution_count": null,
      "outputs": [
        {
          "output_type": "stream",
          "name": "stdout",
          "text": [
            "chirala: 523155\n",
            "Weather in Karamchedu:\n",
            "Temperature: 299.99°C\n",
            "Humidity: 79%\n",
            "Condition: Heavy intensity rain\n"
          ]
        }
      ]
    }
  ]
}